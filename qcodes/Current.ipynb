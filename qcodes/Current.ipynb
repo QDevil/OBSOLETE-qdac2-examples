{
 "cells": [
  {
   "cell_type": "code",
   "execution_count": 1,
   "id": "1a466655",
   "metadata": {},
   "outputs": [
    {
     "name": "stdout",
     "output_type": "stream",
     "text": [
      "Logging hadn't been started.\n",
      "Activating auto-logging. Current session state plus future input saved.\n",
      "Filename       : /Users/jps/.qcodes/logs/command_history.log\n",
      "Mode           : append\n",
      "Output logging : True\n",
      "Raw input log  : False\n",
      "Timestamping   : True\n",
      "State          : active\n",
      "Qcodes Logfile : /Users/jps/.qcodes/logs/210917-5631-qcodes.log\n",
      "Connected to: QDevil QDAC-II (serial:0, firmware:3-0.9.11) in 0.42s\n"
     ]
    }
   ],
   "source": [
    "from time import sleep\n",
    "import numpy\n",
    "import QDevil_QDAC2 as QDAC2\n",
    "qdac_addr = '192.168.8.15'\n",
    "qdac = QDAC2.QDac2('QDAC2', visalib='@py', address=f'TCPIP::{qdac_addr}::5025::SOCKET')"
   ]
  },
  {
   "cell_type": "code",
   "execution_count": 2,
   "id": "5d168710",
   "metadata": {},
   "outputs": [],
   "source": [
    "qdac.reset()\n",
    "sleep(3)"
   ]
  },
  {
   "cell_type": "code",
   "execution_count": 3,
   "id": "752fe1ff",
   "metadata": {},
   "outputs": [
    {
     "data": {
      "text/plain": [
       "'0, \"No error\"'"
      ]
     },
     "execution_count": 3,
     "metadata": {},
     "output_type": "execute_result"
    }
   ],
   "source": [
    "# Put a 1 kOhm resistor on channel 5\n",
    "gate = qdac.channel(5)\n",
    "gate.output_mode(range='low', high_current_limit_A=0.0002)\n",
    "gate.dc_constant_V(0.1)\n",
    "qdac.errors()"
   ]
  },
  {
   "cell_type": "code",
   "execution_count": 4,
   "id": "64ec049f",
   "metadata": {},
   "outputs": [
    {
     "data": {
      "text/plain": [
       "'0, \"No error\"'"
      ]
     },
     "execution_count": 4,
     "metadata": {},
     "output_type": "execute_result"
    }
   ],
   "source": [
    "measurement = gate.measurement(repetitions=10, nplc=1)\n",
    "measurement.start()\n",
    "qdac.errors()"
   ]
  },
  {
   "cell_type": "code",
   "execution_count": 5,
   "id": "65409d0b",
   "metadata": {},
   "outputs": [
    {
     "data": {
      "text/plain": [
       "10"
      ]
     },
     "execution_count": 5,
     "metadata": {},
     "output_type": "execute_result"
    }
   ],
   "source": [
    "measurement.n_available()"
   ]
  },
  {
   "cell_type": "code",
   "execution_count": 6,
   "id": "196d5f95",
   "metadata": {},
   "outputs": [
    {
     "data": {
      "text/plain": [
       "-0.0016808"
      ]
     },
     "execution_count": 6,
     "metadata": {},
     "output_type": "execute_result"
    }
   ],
   "source": [
    "measurement.peek_A()"
   ]
  },
  {
   "cell_type": "code",
   "execution_count": 7,
   "id": "84de93a0",
   "metadata": {},
   "outputs": [
    {
     "name": "stdout",
     "output_type": "stream",
     "text": [
      "['-0.0016818', '-0.0016814', '-0.0016818', '-0.0016818', '-0.0016819', '-0.0016819', '-0.0016817', '-0.0016816', '-0.0016804', '-0.0016808']\n"
     ]
    },
    {
     "data": {
      "text/plain": [
       "'0, \"No error\"'"
      ]
     },
     "execution_count": 7,
     "metadata": {},
     "output_type": "execute_result"
    }
   ],
   "source": [
    "print(measurement.available_A())\n",
    "qdac.errors()"
   ]
  },
  {
   "cell_type": "code",
   "execution_count": 8,
   "id": "ca2d01cc",
   "metadata": {},
   "outputs": [
    {
     "data": {
      "text/plain": [
       "'0, \"No error\"'"
      ]
     },
     "execution_count": 8,
     "metadata": {},
     "output_type": "execute_result"
    }
   ],
   "source": [
    "measurement.abort()\n",
    "qdac.errors()"
   ]
  },
  {
   "cell_type": "code",
   "execution_count": 12,
   "id": "9d5bff7e",
   "metadata": {},
   "outputs": [
    {
     "name": "stdout",
     "output_type": "stream",
     "text": [
      "Starting experimental run with id: 188. \n"
     ]
    },
    {
     "data": {
      "application/vnd.jupyter.widget-view+json": {
       "model_id": "1afedb7e89a6434c858f01bd5743bcad",
       "version_major": 2,
       "version_minor": 0
      },
      "text/plain": [
       "  0%|          | 0/10 [00:00<?, ?it/s]"
      ]
     },
     "metadata": {},
     "output_type": "display_data"
    },
    {
     "data": {
      "text/plain": [
       "(results #188@/Users/jps/experiments.db\n",
       " --------------------------------------\n",
       " QDAC2_ch05_dc_constant_V - numeric\n",
       " QDAC2_ch05_read_current_A - numeric,\n",
       " [<AxesSubplot:title={'center':'Run #188, Experiment json-export-subscriber-test (no-sample)'}, xlabel='ch5 (V)', ylabel='ch5 (mA)'>],\n",
       " [None])"
      ]
     },
     "execution_count": 12,
     "metadata": {},
     "output_type": "execute_result"
    },
    {
     "data": {
      "image/png": "[encoded data removed]",
      "text/plain": [
       "<Figure size 432x288 with 1 Axes>"
      ]
     },
     "metadata": {
      "needs_background": "light"
     },
     "output_type": "display_data"
    }
   ],
   "source": [
    "gate.dc_constant_V(0)\n",
    "gate.dc_slew_rate_V_per_s(0.05)\n",
    "gate.measurement_count(1)\n",
    "from qcodes.utils.dataset.doNd import do1d\n",
    "delay_s = 0.1 / gate.dc_slew_rate_V_per_s() + 0.01\n",
    "do1d(gate.dc_constant_V, 0, 1, 10, delay_s, gate.read_current_A, show_progress=True, do_plot = True)\n",
    "#  do1d(_param_set, start, stop, num_points, delay, _param)"
   ]
  },
  {
   "cell_type": "code",
   "execution_count": 13,
   "id": "500def51",
   "metadata": {},
   "outputs": [
    {
     "name": "stdout",
     "output_type": "stream",
     "text": [
      "2.01\n"
     ]
    }
   ],
   "source": [
    "gate.dc_constant_V(0)\n",
    "print(delay_s)"
   ]
  }
 ],
 "metadata": {
  "kernelspec": {
   "display_name": "Python 3 (ipykernel)",
   "language": "python",
   "name": "python3"
  },
  "language_info": {
   "codemirror_mode": {
    "name": "ipython",
    "version": 3
   },
   "file_extension": ".py",
   "mimetype": "text/x-python",
   "name": "python",
   "nbconvert_exporter": "python",
   "pygments_lexer": "ipython3",
   "version": "3.9.5"
  }
 },
 "nbformat": 4,
 "nbformat_minor": 5
}
